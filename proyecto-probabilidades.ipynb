{
 "cells": [
  {
   "cell_type": "markdown",
   "id": "de3cf9ee",
   "metadata": {},
   "source": [
    "# Parcial No. 4 - Proyecto\n",
    "## Análisis del Problema de Monty Hall\n",
    "Un concursante debe elegir 1 puerta entre 3 (todas cerradas); el premio consiste en llevarse lo que se encuentra detrás de la puerta elegida. Se sabe con certeza que tras una de ellas hay un premio, y tras las otras dos no hay premio.\n",
    "\n",
    "Una vez que el concursante haya elegido una puerta y comunicado su elección a los presentes, el presentador, que sabe lo que hay detrás de cada puerta, abrirá una de las otras dos, en la que no habrá premio. A continuación, le da la opción al concursante de cambiar, si lo desea, de puerta."
   ]
  },
  {
   "cell_type": "markdown",
   "id": "78644605",
   "metadata": {},
   "source": [
    "**Pregunta 1.** ¿Debe el concursante mantener su elección original o escoger la otra puerta?"
   ]
  },
  {
   "cell_type": "code",
   "execution_count": null,
   "id": "77fc5b14",
   "metadata": {},
   "outputs": [],
   "source": [
    "print('codigo pregunta 1')"
   ]
  },
  {
   "cell_type": "markdown",
   "id": "6290dace",
   "metadata": {},
   "source": [
    "**Pregunta 2.** ¿Existe alguna diferencia en la estrategia si en lugar de 3 se tienen 5 puertas (1 con premio y 4 sin premio)?"
   ]
  },
  {
   "cell_type": "code",
   "execution_count": null,
   "id": "2a129122",
   "metadata": {},
   "outputs": [],
   "source": [
    "print('codigo pregunta 2')"
   ]
  }
 ],
 "metadata": {
  "kernelspec": {
   "display_name": "Python 3",
   "language": "python",
   "name": "python3"
  },
  "language_info": {
   "codemirror_mode": {
    "name": "ipython",
    "version": 3
   },
   "file_extension": ".py",
   "mimetype": "text/x-python",
   "name": "python",
   "nbconvert_exporter": "python",
   "pygments_lexer": "ipython3",
   "version": "3.13.2"
  }
 },
 "nbformat": 4,
 "nbformat_minor": 5
}
