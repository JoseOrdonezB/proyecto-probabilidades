{
 "cells": [
  {
   "cell_type": "markdown",
   "id": "de3cf9ee",
   "metadata": {},
   "source": [
    "# Parcial No. 4 - Proyecto\n",
    "## Análisis del Problema de Monty Hall\n",
    "Un concursante debe elegir 1 puerta entre 3 (todas cerradas); el premio consiste en llevarse lo que se encuentra detrás de la puerta elegida. Se sabe con certeza que tras una de ellas hay un premio, y tras las otras dos no hay premio.\n",
    "\n",
    "Una vez que el concursante haya elegido una puerta y comunicado su elección a los presentes, el presentador, que sabe lo que hay detrás de cada puerta, abrirá una de las otras dos, en la que no habrá premio. A continuación, le da la opción al concursante de cambiar, si lo desea, de puerta."
   ]
  },
  {
   "cell_type": "markdown",
   "id": "78644605",
   "metadata": {},
   "source": [
    "**Pregunta 1.** ¿Debe el concursante mantener su elección original o escoger la otra puerta?"
   ]
  },
  {
   "cell_type": "code",
   "execution_count": null,
   "id": "77fc5b14",
   "metadata": {},
   "outputs": [],
   "source": [
    "import random as rd\n",
    "\n",
    "# definir la semilla para los números aleatorios.\n",
    "rd.seed(2025)\n",
    "\n",
    "# contadores para las victorias al mantener la puerta y al cambiar.\n",
    "win_if_switch = 0\n",
    "win_if_stay = 0\n",
    "num_simulations = 100000\n",
    "\n",
    "# ciclo for para la simulación\n",
    "for i in range(num_simulations):\n",
    "    # definir las puertas.\n",
    "    doors = [0, 0, 0]\n",
    "\n",
    "    # asignar el premio a una de las puertas.\n",
    "    rdn = rd.random()\n",
    "    if rdn < 1/3:\n",
    "        reward = 0\n",
    "    elif rdn < 2/3:\n",
    "        reward = 1\n",
    "    else:\n",
    "        reward = 2\n",
    "    doors[reward] = 1\n",
    "\n",
    "    # elegir una puerta al azar.\n",
    "    rdn = rd.random()\n",
    "    if rdn < 1/3:\n",
    "        choice = 0\n",
    "    elif rdn < 2/3:\n",
    "        choice = 1\n",
    "    else:\n",
    "        choice = 2\n",
    "\n",
    "    # abrir una puerta que no tiene premio y tampoco ha sido elegida.\n",
    "    doors_to_open = [i for i in range(3) if i != choice and doors[i] == 0]\n",
    "    if len(doors_to_open) == 1:\n",
    "        opened_door = doors_to_open[0]\n",
    "    else:\n",
    "        rdn = rd.random()\n",
    "        if rdn < 1/2:\n",
    "            opened_door = doors_to_open[0]\n",
    "        else:\n",
    "            opened_door = doors_to_open[1]\n",
    "\n",
    "    # definir a que puerta cambiar.\n",
    "    for i in range(3):\n",
    "        if i != choice and i != opened_door:\n",
    "            switch_choice = i\n",
    "            break\n",
    "\n",
    "    # aumentar el contador si cambia de puerta.\n",
    "    if doors[switch_choice] == 1:\n",
    "        win_if_switch += 1\n",
    "\n",
    "    # aumentar el contador si se queda con su puerta.\n",
    "    if doors[choice] == 1:\n",
    "        win_if_stay += 1\n",
    "\n",
    "prob_switch = win_if_switch / num_simulations\n",
    "prob_stay = win_if_stay / num_simulations\n",
    "\n",
    "print('Probabilidad de ganar si no se cambia de puerta: ', prob_stay)\n",
    "print('Probabilidad de ganar si se cambia de puerta: ', prob_switch)"
   ]
  },
  {
   "cell_type": "markdown",
   "id": "6290dace",
   "metadata": {},
   "source": [
    "**Pregunta 2.** ¿Existe alguna diferencia en la estrategia si en lugar de 3 se tienen 5 puertas (1 con premio y 4 sin premio)?"
   ]
  },
  {
   "cell_type": "code",
   "execution_count": null,
   "id": "2a129122",
   "metadata": {},
   "outputs": [],
   "source": [
    "print('codigo pregunta 2')"
   ]
  }
 ],
 "metadata": {
  "kernelspec": {
   "display_name": "Python 3",
   "language": "python",
   "name": "python3"
  },
  "language_info": {
   "codemirror_mode": {
    "name": "ipython",
    "version": 3
   },
   "file_extension": ".py",
   "mimetype": "text/x-python",
   "name": "python",
   "nbconvert_exporter": "python",
   "pygments_lexer": "ipython3",
   "version": "3.13.2"
  }
 },
 "nbformat": 4,
 "nbformat_minor": 5
}
